{
 "cells": [
  {
   "cell_type": "code",
   "execution_count": 4,
   "id": "07b4c5b0",
   "metadata": {},
   "outputs": [
    {
     "name": "stdout",
     "output_type": "stream",
     "text": [
      "nhap so tien usd can doi:\n",
      "2\n",
      "nhap ti gia usd\n",
      "22000\n",
      "44000.0\n"
     ]
    }
   ],
   "source": [
    "#[Bài tập] Ứng dụng chuyển đổi tiền tệ\n",
    "usd=float(input('nhap so tien usd can doi:\\n'))\n",
    "tigia=float(input('nhap ti gia usd\\n'))\n",
    "vnd=float(usd*tigia)\n",
    "print(vnd)\n"
   ]
  },
  {
   "cell_type": "code",
   "execution_count": null,
   "id": "2a6d677c",
   "metadata": {},
   "outputs": [],
   "source": []
  }
 ],
 "metadata": {
  "kernelspec": {
   "display_name": "Python 3 (ipykernel)",
   "language": "python",
   "name": "python3"
  },
  "language_info": {
   "codemirror_mode": {
    "name": "ipython",
    "version": 3
   },
   "file_extension": ".py",
   "mimetype": "text/x-python",
   "name": "python",
   "nbconvert_exporter": "python",
   "pygments_lexer": "ipython3",
   "version": "3.9.12"
  }
 },
 "nbformat": 4,
 "nbformat_minor": 5
}
