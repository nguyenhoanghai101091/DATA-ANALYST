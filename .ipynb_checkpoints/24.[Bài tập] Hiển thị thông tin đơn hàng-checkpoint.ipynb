{
 "cells": [
  {
   "cell_type": "code",
   "execution_count": 12,
   "id": "ba76256e",
   "metadata": {},
   "outputs": [
    {
     "name": "stdout",
     "output_type": "stream",
     "text": [
      "nhap vao so tien:150\n",
      "so tien ban phai tra là 100\n"
     ]
    }
   ],
   "source": [
    "#[Bài tập] Hiển thị thông tin đơn hàng\n",
    "so_tien=int(input('nhap vao so tien:'))\n",
    "a=0\n",
    "b=15\n",
    "c=25\n",
    "d=50\n",
    "if so_tien < 75:\n",
    "    print('so tien ban phai tra là',so_tien-a)\n",
    "elif so_tien >= 75 and so_tien < 100:\n",
    "    print('so tien ban phai tra là',so_tien-b)\n",
    "elif so_tien >= 100 and so_tien < 150:\n",
    "    print('so tien ban phai tra là',so_tien-c)\n",
    "else:\n",
    "    print('so tien ban phai tra là',so_tien-d)"
   ]
  },
  {
   "cell_type": "code",
   "execution_count": null,
   "id": "3657acb3",
   "metadata": {},
   "outputs": [],
   "source": []
  }
 ],
 "metadata": {
  "kernelspec": {
   "display_name": "Python 3 (ipykernel)",
   "language": "python",
   "name": "python3"
  },
  "language_info": {
   "codemirror_mode": {
    "name": "ipython",
    "version": 3
   },
   "file_extension": ".py",
   "mimetype": "text/x-python",
   "name": "python",
   "nbconvert_exporter": "python",
   "pygments_lexer": "ipython3",
   "version": "3.9.12"
  }
 },
 "nbformat": 4,
 "nbformat_minor": 5
}
