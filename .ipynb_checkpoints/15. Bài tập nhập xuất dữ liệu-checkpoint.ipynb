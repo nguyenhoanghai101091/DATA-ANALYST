{
 "cells": [
  {
   "cell_type": "code",
   "execution_count": null,
   "id": "8fcfbd1c",
   "metadata": {},
   "outputs": [],
   "source": [
    "#Bài tập 1\n",
    "chuoi=input('Nhập vào 1 chuoi\\n')\n",
    "solanlap=int(input('Nhập vào số lần lặp lại\\n'))\n",
    "print(chuoi*solanlap,end='\\n')"
   ]
  },
  {
   "cell_type": "code",
   "execution_count": 4,
   "id": "7d969b9d",
   "metadata": {},
   "outputs": [
    {
     "name": "stdout",
     "output_type": "stream",
     "text": [
      "Nhập vào số năm\n",
      "1991\n",
      "1990 1992\n"
     ]
    }
   ],
   "source": [
    "#bài tập 2 nhập vào số năm, xuất ra màn hình năm trước và sau của năm đó\n",
    "nam=int(input('Nhập vào số năm\\n'))\n",
    "print(nam-1,nam+1)"
   ]
  },
  {
   "cell_type": "code",
   "execution_count": 7,
   "id": "4112542b",
   "metadata": {},
   "outputs": [
    {
     "name": "stdout",
     "output_type": "stream",
     "text": [
      "nhập vào chuỗi\n",
      "hai\n",
      "iah\n"
     ]
    }
   ],
   "source": [
    "#bài tập 3 nhập vào chuỗi và đảo ngược, ỉn ra chuỗi mới\n",
    "chuoi=input('nhập vào chuỗi\\n')\n",
    "print(chuoi[::-1])"
   ]
  },
  {
   "cell_type": "code",
   "execution_count": 17,
   "id": "a5be3ff0",
   "metadata": {
    "scrolled": true
   },
   "outputs": [
    {
     "name": "stdout",
     "output_type": "stream",
     "text": [
      "nhập vào chuỗi\n",
      "hoanghai\n",
      "nhập số kí tự cần cắt\n",
      "3\n",
      "chuoi moi là aohnghai\n"
     ]
    }
   ],
   "source": [
    "#bài tập 4\n",
    "chuoi=input('nhập vào chuỗi\\n')\n",
    "n=int(input('nhập số kí tự cần cắt\\n'))\n",
    "catchuoi=chuoi[:n:]\n",
    "chuoimoi=catchuoi[::-1] + chuoi[n::]\n",
    "print('chuoi moi là',chuoimoi)"
   ]
  },
  {
   "cell_type": "code",
   "execution_count": 11,
   "id": "bc066c68",
   "metadata": {
    "scrolled": true
   },
   "outputs": [
    {
     "name": "stdout",
     "output_type": "stream",
     "text": [
      "nhập vào số từ 1 đến 3:3\n",
      "HM\n"
     ]
    }
   ],
   "source": [
    "#bài tập 5\n",
    "chuoi='1.HN2.DN3.HM'\n",
    "#HN=2:4,DN=6:8,HM=10:12\n",
    "n=int(input(\"nhập vào số từ 1 đến 3:\"))\n",
    "print(chuoi[(n*4-2):(n*4)])"
   ]
  },
  {
   "cell_type": "code",
   "execution_count": null,
   "id": "eb1f4346",
   "metadata": {},
   "outputs": [],
   "source": []
  }
 ],
 "metadata": {
  "kernelspec": {
   "display_name": "Python 3 (ipykernel)",
   "language": "python",
   "name": "python3"
  },
  "language_info": {
   "codemirror_mode": {
    "name": "ipython",
    "version": 3
   },
   "file_extension": ".py",
   "mimetype": "text/x-python",
   "name": "python",
   "nbconvert_exporter": "python",
   "pygments_lexer": "ipython3",
   "version": "3.9.12"
  }
 },
 "nbformat": 4,
 "nbformat_minor": 5
}
