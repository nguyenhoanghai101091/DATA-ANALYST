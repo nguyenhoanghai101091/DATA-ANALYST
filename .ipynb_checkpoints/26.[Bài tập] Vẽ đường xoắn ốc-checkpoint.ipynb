{
 "cells": [
  {
   "cell_type": "code",
   "execution_count": null,
   "id": "54c152cd",
   "metadata": {},
   "outputs": [],
   "source": [
    "#[Bài tập] Vẽ đường xoắn ốc\n",
    "import turtle\n",
    "t=turtle.Turtle()\n",
    "n = 1\n",
    "d = 2\n",
    "g = 30\n",
    "goc_toa_do = t.distance(0,0)\n",
    "r = 100\n",
    "while True:\n",
    "    t.forward(d)\n",
    "    t.left(g)\n",
    "    d += 0.5\n",
    "    n += 1\n",
    "    if r == :\n",
    "        break\n",
    "turtle.done()"
   ]
  },
  {
   "cell_type": "code",
   "execution_count": null,
   "id": "cf9f611d",
   "metadata": {},
   "outputs": [],
   "source": [
    "import turtle\n",
    "print(turtle.distance(0,0))\n",
    "print(turtle.distance(3,4))\n",
    "turtle.done()"
   ]
  },
  {
   "cell_type": "code",
   "execution_count": null,
   "id": "75e443e0",
   "metadata": {},
   "outputs": [],
   "source": []
  }
 ],
 "metadata": {
  "kernelspec": {
   "display_name": "Python 3 (ipykernel)",
   "language": "python",
   "name": "python3"
  },
  "language_info": {
   "codemirror_mode": {
    "name": "ipython",
    "version": 3
   },
   "file_extension": ".py",
   "mimetype": "text/x-python",
   "name": "python",
   "nbconvert_exporter": "python",
   "pygments_lexer": "ipython3",
   "version": "3.9.12"
  }
 },
 "nbformat": 4,
 "nbformat_minor": 5
}
