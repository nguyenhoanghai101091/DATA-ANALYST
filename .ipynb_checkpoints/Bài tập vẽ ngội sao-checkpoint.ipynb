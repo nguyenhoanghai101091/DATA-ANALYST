{
 "cells": [
  {
   "cell_type": "code",
   "execution_count": null,
   "id": "5632136b",
   "metadata": {
    "scrolled": true
   },
   "outputs": [],
   "source": [
    "#Vẽ hình vuông có 4 cạnh màu và tô nền màu gray\n",
    "import turtle\n",
    "t=turtle.Turtle()\n",
    "t.pensize(10)\n",
    "t.pencolor('red')\n",
    "t.fillcolor('gray')\n",
    "t.begin_fill()\n",
    "t.forward(100)\n",
    "t.right(90)\n",
    "t.pencolor('blue')\n",
    "t.forward(100)\n",
    "t.right(90)\n",
    "t.pencolor('green')\n",
    "t.forward(100)\n",
    "t.right(90)\n",
    "t.pencolor('yellow')\n",
    "t.forward(100)\n",
    "t.right(90)\n",
    "t.end_fill()\n",
    "turtle.done()"
   ]
  },
  {
   "cell_type": "code",
   "execution_count": null,
   "id": "92cdd440",
   "metadata": {},
   "outputs": [],
   "source": [
    "#Vẽ hình ngôi sao\n",
    "import turtle\n",
    "a=turtle.Turtle()\n",
    "a.pencolor('blue')\n",
    "a.forward(200)\n",
    "a.right(144)\n",
    "a.forward(200)\n",
    "a.right(144)\n",
    "a.forward(200)\n",
    "a.right(144)\n",
    "a.forward(200)\n",
    "a.right(144)\n",
    "a.forward(200)\n",
    "a.right(144)\n",
    "turtle.done()\n",
    "\n"
   ]
  },
  {
   "cell_type": "code",
   "execution_count": null,
   "id": "749b1cc7",
   "metadata": {},
   "outputs": [],
   "source": [
    "#Vẽ hình ngôi sao khác\n",
    "import turtle\n",
    "a=turtle.Turtle()\n",
    "a.forward(100)\n",
    "a.left(72)\n",
    "a.forward(100)\n",
    "a.right(144)\n",
    "a.forward(100)\n",
    "a.left(72)\n",
    "a.forward(100)\n",
    "a.right(144)\n",
    "a.forward(100)\n",
    "a.left(72)\n",
    "a.forward(100)\n",
    "a.right(144)\n",
    "a.forward(100)\n",
    "a.left(72)\n",
    "a.forward(100)\n",
    "a.right(144)\n",
    "a.forward(100)\n",
    "a.left(72)\n",
    "a.forward(100)\n",
    "a.right(144)\n",
    "turtle.done()"
   ]
  },
  {
   "cell_type": "code",
   "execution_count": null,
   "id": "4ac05957",
   "metadata": {},
   "outputs": [],
   "source": []
  }
 ],
 "metadata": {
  "kernelspec": {
   "display_name": "Python 3 (ipykernel)",
   "language": "python",
   "name": "python3"
  },
  "language_info": {
   "codemirror_mode": {
    "name": "ipython",
    "version": 3
   },
   "file_extension": ".py",
   "mimetype": "text/x-python",
   "name": "python",
   "nbconvert_exporter": "python",
   "pygments_lexer": "ipython3",
   "version": "3.9.12"
  }
 },
 "nbformat": 4,
 "nbformat_minor": 5
}
