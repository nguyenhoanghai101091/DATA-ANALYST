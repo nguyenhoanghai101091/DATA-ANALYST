{
 "cells": [
  {
   "cell_type": "code",
   "execution_count": 1,
   "id": "54f63260",
   "metadata": {},
   "outputs": [
    {
     "name": "stdout",
     "output_type": "stream",
     "text": [
      "nhap vao so:a\n",
      "hay nhap vao 1 so nguyen\n"
     ]
    }
   ],
   "source": [
    "#[Bài tập] Kiểm tra số chẵn/lẻ\n",
    "try:\n",
    "    n=int(input('nhap vao so:'))\n",
    "    if n%2==0:\n",
    "        print(f'{n} la so chan')\n",
    "    elif n%2==1:\n",
    "        print(f'{n} la so le')\n",
    "    else:\n",
    "        print(f'{n} khong phai la so tu nhien')\n",
    "except:\n",
    "    print('hay nhap vao 1 so nguyen')"
   ]
  },
  {
   "cell_type": "code",
   "execution_count": null,
   "id": "34064c60",
   "metadata": {},
   "outputs": [],
   "source": []
  }
 ],
 "metadata": {
  "kernelspec": {
   "display_name": "Python 3 (ipykernel)",
   "language": "python",
   "name": "python3"
  },
  "language_info": {
   "codemirror_mode": {
    "name": "ipython",
    "version": 3
   },
   "file_extension": ".py",
   "mimetype": "text/x-python",
   "name": "python",
   "nbconvert_exporter": "python",
   "pygments_lexer": "ipython3",
   "version": "3.9.12"
  }
 },
 "nbformat": 4,
 "nbformat_minor": 5
}
