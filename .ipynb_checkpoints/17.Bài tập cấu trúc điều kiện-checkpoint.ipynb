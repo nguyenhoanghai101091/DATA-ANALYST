{
 "cells": [
  {
   "cell_type": "code",
   "execution_count": 9,
   "id": "38e716c5",
   "metadata": {},
   "outputs": [
    {
     "name": "stdout",
     "output_type": "stream",
     "text": [
      "nhap vao so nguyen :-2\n",
      "trị tuyệt đối là 2\n"
     ]
    }
   ],
   "source": [
    "#Bài 1 Nhập vào số nguyên n, tính trị tuyệt đối của n\n",
    "n=int(input('nhap vao so nguyen :'))\n",
    "if (n > 0):\n",
    "    print(f'trị tuyệt đối là {n}')\n",
    "elif (n == 0):\n",
    "    print('tri tuyet doi là 0')\n",
    "else:\n",
    "    print(f'trị tuyệt đối là {-n}')"
   ]
  },
  {
   "cell_type": "code",
   "execution_count": null,
   "id": "5b4ff29d",
   "metadata": {},
   "outputs": [],
   "source": [
    "#bài tập giải phương trình bậc nhất ax+b=0)"
   ]
  }
 ],
 "metadata": {
  "kernelspec": {
   "display_name": "Python 3 (ipykernel)",
   "language": "python",
   "name": "python3"
  },
  "language_info": {
   "codemirror_mode": {
    "name": "ipython",
    "version": 3
   },
   "file_extension": ".py",
   "mimetype": "text/x-python",
   "name": "python",
   "nbconvert_exporter": "python",
   "pygments_lexer": "ipython3",
   "version": "3.9.12"
  }
 },
 "nbformat": 4,
 "nbformat_minor": 5
}
