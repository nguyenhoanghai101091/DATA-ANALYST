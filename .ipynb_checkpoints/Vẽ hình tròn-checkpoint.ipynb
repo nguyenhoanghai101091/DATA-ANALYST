{
 "cells": [
  {
   "cell_type": "code",
   "execution_count": null,
   "id": "6cac7a8e",
   "metadata": {},
   "outputs": [],
   "source": [
    "import turtle\n",
    "t=turtle.Turtle()\n",
    "#Vẽ hình tròn có bán kính bằng 100 và độ rộng bằng 5\n",
    "m=100\n",
    "t.pensize(5)\n",
    "t.pencolor('red')\n",
    "t.fillcolor('blue')\n",
    "t.begin_fill()\n",
    "t.circle(m)\n",
    "t.end_fill()\n",
    "turtle.done()\n"
   ]
  },
  {
   "cell_type": "code",
   "execution_count": null,
   "id": "f59a5b37",
   "metadata": {},
   "outputs": [],
   "source": []
  }
 ],
 "metadata": {
  "kernelspec": {
   "display_name": "Python 3 (ipykernel)",
   "language": "python",
   "name": "python3"
  },
  "language_info": {
   "codemirror_mode": {
    "name": "ipython",
    "version": 3
   },
   "file_extension": ".py",
   "mimetype": "text/x-python",
   "name": "python",
   "nbconvert_exporter": "python",
   "pygments_lexer": "ipython3",
   "version": "3.9.12"
  }
 },
 "nbformat": 4,
 "nbformat_minor": 5
}
