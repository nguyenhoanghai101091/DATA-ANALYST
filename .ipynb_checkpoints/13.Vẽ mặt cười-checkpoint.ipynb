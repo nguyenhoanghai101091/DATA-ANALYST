{
 "cells": [
  {
   "cell_type": "code",
   "execution_count": null,
   "id": "b202607e",
   "metadata": {},
   "outputs": [],
   "source": [
    "#Vẽ mặt cười\n",
    "import turtle\n",
    "t=turtle.Turtle()\n",
    "t.speed(7)\n",
    "t.pensize(5)\n",
    "t.pencolor('blue')\n",
    "#vẽ hình tròn bên ngoài\n",
    "facesize=200\n",
    "t.penup()\n",
    "t.goto(0,-200)\n",
    "t.pendown()\n",
    "t.circle(facesize)\n",
    "#vẽ mắt\n",
    "t.fillcolor('red')\n",
    "t.penup()\n",
    "t.goto(-100,50)\n",
    "t.pendown()\n",
    "#khai báo kích cỡ mắt\n",
    "eyesize=50\n",
    "#vẽ mắt 1\n",
    "t.begin_fill()\n",
    "t.circle(eyesize)\n",
    "t.end_fill()\n",
    "t.penup()\n",
    "#vẽ mắt 2\n",
    "t.goto(100,50)\n",
    "t.pendown()\n",
    "t.begin_fill()\n",
    "t.circle(eyesize)\n",
    "t.end_fill()\n",
    "t.penup()\n",
    "#Vẽ mũi\n",
    "t.goto(0,50)\n",
    "t.pendown()\n",
    "t.circle(-70,steps=3)\n",
    "#vẽ miệng\n",
    "t.penup()\n",
    "t.goto(-100,-70)\n",
    "t.pendown()\n",
    "t.right(90)\n",
    "t.circle(100,180)\n",
    "turtle.done()"
   ]
  },
  {
   "cell_type": "code",
   "execution_count": null,
   "id": "7e4791fe",
   "metadata": {},
   "outputs": [],
   "source": []
  }
 ],
 "metadata": {
  "kernelspec": {
   "display_name": "Python 3 (ipykernel)",
   "language": "python",
   "name": "python3"
  },
  "language_info": {
   "codemirror_mode": {
    "name": "ipython",
    "version": 3
   },
   "file_extension": ".py",
   "mimetype": "text/x-python",
   "name": "python",
   "nbconvert_exporter": "python",
   "pygments_lexer": "ipython3",
   "version": "3.9.12"
  }
 },
 "nbformat": 4,
 "nbformat_minor": 5
}
