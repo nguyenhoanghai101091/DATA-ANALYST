{
 "cells": [
  {
   "cell_type": "code",
   "execution_count": 3,
   "id": "cf0dcf0f",
   "metadata": {
    "scrolled": false
   },
   "outputs": [
    {
     "name": "stdout",
     "output_type": "stream",
     "text": [
      "nhap vao 1 so nguyen bat ki:4\n",
      "4 la so chan\n"
     ]
    }
   ],
   "source": [
    "#[Bài tập] Luyện tập với toán tử ba ngôi\n",
    "number_check=int(input('nhap vao 1 so nguyen bat ki:'))\n",
    "print(f'{number_check} la so chan') if number_check%2==0 else print(f'{number_check} la so le')"
   ]
  },
  {
   "cell_type": "code",
   "execution_count": null,
   "id": "86e3da9b",
   "metadata": {},
   "outputs": [],
   "source": []
  }
 ],
 "metadata": {
  "kernelspec": {
   "display_name": "Python 3 (ipykernel)",
   "language": "python",
   "name": "python3"
  },
  "language_info": {
   "codemirror_mode": {
    "name": "ipython",
    "version": 3
   },
   "file_extension": ".py",
   "mimetype": "text/x-python",
   "name": "python",
   "nbconvert_exporter": "python",
   "pygments_lexer": "ipython3",
   "version": "3.9.12"
  }
 },
 "nbformat": 4,
 "nbformat_minor": 5
}
