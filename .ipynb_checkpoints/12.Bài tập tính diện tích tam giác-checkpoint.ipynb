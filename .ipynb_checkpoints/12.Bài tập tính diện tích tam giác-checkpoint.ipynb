{
 "cells": [
  {
   "cell_type": "code",
   "execution_count": 1,
   "id": "e50660ec",
   "metadata": {},
   "outputs": [
    {
     "name": "stdout",
     "output_type": "stream",
     "text": [
      "nhập chiều dài cạnh a4\n",
      "nhập chiều dài cạnh b3\n",
      "nhập chiều dài cạnh c6\n",
      "diện tích của tam giác là: 5.332682251925386\n"
     ]
    }
   ],
   "source": [
    "import math\n",
    "a=float(input(\"nhập chiều dài cạnh a\"))\n",
    "b=float(input(\"nhập chiều dài cạnh b\"))\n",
    "c=float(input(\"nhập chiều dài cạnh c\"))\n",
    "s=(a+b+c)/2\n",
    "dientich=math.sqrt(s*(s-a)*(s-b)*(s-c))\n",
    "print('diện tích của tam giác là:',dientich)"
   ]
  },
  {
   "cell_type": "code",
   "execution_count": null,
   "id": "3fe14e09",
   "metadata": {},
   "outputs": [],
   "source": []
  }
 ],
 "metadata": {
  "kernelspec": {
   "display_name": "Python 3 (ipykernel)",
   "language": "python",
   "name": "python3"
  },
  "language_info": {
   "codemirror_mode": {
    "name": "ipython",
    "version": 3
   },
   "file_extension": ".py",
   "mimetype": "text/x-python",
   "name": "python",
   "nbconvert_exporter": "python",
   "pygments_lexer": "ipython3",
   "version": "3.9.12"
  }
 },
 "nbformat": 4,
 "nbformat_minor": 5
}
