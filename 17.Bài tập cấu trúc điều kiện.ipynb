{
 "cells": [
  {
   "cell_type": "code",
   "execution_count": null,
   "id": "38e716c5",
   "metadata": {},
   "outputs": [],
   "source": [
    "#Bài 1 Nhập vào số nguyên n, tính trị tuyệt đối của n\n",
    "n=int(input('nhap vao so nguyen :'))\n",
    "if (n > 0):\n",
    "    print(f'trị tuyệt đối là {n}')\n",
    "elif (n == 0):\n",
    "    print('tri tuyet doi là 0')\n",
    "else:\n",
    "    print(f'trị tuyệt đối là {-n}')"
   ]
  },
  {
   "cell_type": "code",
   "execution_count": null,
   "id": "5b4ff29d",
   "metadata": {},
   "outputs": [],
   "source": [
    "#Bài 2:bài tập giải phương trình bậc nhất ax+b=0\n",
    "a=int(input('nhap so a:'))\n",
    "b=int(input('nhap so b:'))\n",
    "if a==0:\n",
    "    if b==0:\n",
    "        print('phuong trinh có vo so nghiem')\n",
    "    else:\n",
    "        print('phuong trinh vo nghiem')\n",
    "else:\n",
    "    print('phuong trinh co nghiem là x=',(-b/a))"
   ]
  },
  {
   "cell_type": "code",
   "execution_count": null,
   "id": "0742730e",
   "metadata": {},
   "outputs": [],
   "source": [
    "#Bài 3:bài tập giải phuong trinh bac 2 ax2+bx+c=0\n",
    "import math\n",
    "a=int(input('nhap so a:'))\n",
    "b=int(input('nhap so b:'))\n",
    "c=int(input('nhap so c:'))\n",
    "delta=int(b**2-(a*c))\n",
    "if delta>0:\n",
    "    print('phuong trinh co 2 nghiem x1=',(-b+math.sqrt(delta))/(2*a),'x2=',(-b-math.sqrt(delta))/(2*a))\n",
    "elif delta==0:\n",
    "    print('phuong trình co nghiem kep x =',-b/(2*a))\n",
    "else:\n",
    "    print('phuong trinh vo nghiem')\n"
   ]
  },
  {
   "cell_type": "code",
   "execution_count": null,
   "id": "19f3e82e",
   "metadata": {},
   "outputs": [],
   "source": [
    "#Bài 4:tìm số lớn nhất của 3 số a,b,c\n",
    "a=float(input('nhap so a:'))\n",
    "b=float(input('nhap so b:'))\n",
    "c=float(input('nhap so c:'))\n",
    "max=a\n",
    "if b>max:\n",
    "    max=b\n",
    "if c>max:\n",
    "    max=c\n",
    "print(max)"
   ]
  },
  {
   "cell_type": "code",
   "execution_count": null,
   "id": "1501a226",
   "metadata": {},
   "outputs": [],
   "source": [
    "#Bài 5:nhập 1 số nguyen, xuất ra màn hình cách đọc\n",
    "n=int(input('nhap vao so nguyen tu 1 den 5:'))\n",
    "if n==1:\n",
    "    print(f'cach doc cua so {n} la mot')\n",
    "elif n==2:\n",
    "    print(f'cach doc cua so {n} la hai')\n",
    "elif n==3:\n",
    "    print(f'cach doc cua so {n} la ba')\n",
    "elif n==4:\n",
    "    print(f'cach doc cua so {n} la bon')\n",
    "else:\n",
    "    print(f'cach doc cua so {n} la nam')    "
   ]
  },
  {
   "cell_type": "code",
   "execution_count": null,
   "id": "e3ee1138",
   "metadata": {},
   "outputs": [],
   "source": [
    "#Bài thực hành"
   ]
  },
  {
   "cell_type": "code",
   "execution_count": null,
   "id": "502ba62b",
   "metadata": {},
   "outputs": [],
   "source": [
    "#Bài 1\n",
    "a = c\n",
    "b = f\n",
    "if isinstance(a,str) and isinstance(b,str):\n",
    "    print(\"a+b\")\n",
    "elif isinstance(a,int) and isinstance(b,int):\n",
    "    print(a+b)\n",
    "else:\n",
    "    print('dau vao khong hop le')\n",
    "      "
   ]
  },
  {
   "cell_type": "code",
   "execution_count": null,
   "id": "56735c39",
   "metadata": {},
   "outputs": [],
   "source": [
    "#Bài 3\n",
    "chuoi1=input('Nhap vao chuoi1:\\n')\n",
    "chuoi1=input('Nhap vao chuoi1:\\n')\n",
    "n=input('Nhap vao so n:\\n')\n",
    "if n>0:\n",
    "    print(chuoi1[0:n]+chuoi2)"
   ]
  },
  {
   "cell_type": "code",
   "execution_count": 11,
   "id": "0b3c8ff1",
   "metadata": {},
   "outputs": [
    {
     "name": "stdout",
     "output_type": "stream",
     "text": [
      "nhap vao 1 chuoi:\n",
      "fe\n",
      "fe\n"
     ]
    }
   ],
   "source": [
    "#Bài 4\n",
    "chuoi=input('nhap vao 1 chuoi:\\n')\n",
    "if len(chuoi)>=3:\n",
    "    if \n",
    "    print(chuoi+'ing')\n",
    "else:\n",
    "    print(chuoi)"
   ]
  },
  {
   "cell_type": "code",
   "execution_count": null,
   "id": "2d2eff10",
   "metadata": {},
   "outputs": [],
   "source": [
    "#Bài 5"
   ]
  }
 ],
 "metadata": {
  "kernelspec": {
   "display_name": "Python 3 (ipykernel)",
   "language": "python",
   "name": "python3"
  },
  "language_info": {
   "codemirror_mode": {
    "name": "ipython",
    "version": 3
   },
   "file_extension": ".py",
   "mimetype": "text/x-python",
   "name": "python",
   "nbconvert_exporter": "python",
   "pygments_lexer": "ipython3",
   "version": "3.9.12"
  }
 },
 "nbformat": 4,
 "nbformat_minor": 5
}
