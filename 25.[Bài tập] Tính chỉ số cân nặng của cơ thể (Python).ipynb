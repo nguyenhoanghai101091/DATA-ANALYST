{
 "cells": [
  {
   "cell_type": "code",
   "execution_count": 3,
   "id": "e78c8f14",
   "metadata": {},
   "outputs": [
    {
     "name": "stdout",
     "output_type": "stream",
     "text": [
      "nhap so can nang:65\n",
      "nhap chieu cao1.74\n",
      "binh thuong\n"
     ]
    }
   ],
   "source": [
    "#[Bài tập] Tính chỉ số cân nặng của cơ thể (Python)\n",
    "can_nang=float(input('nhap so can nang:'))\n",
    "chieu_cao=float(input('nhap chieu cao'))\n",
    "BMI=can_nang/(chieu_cao**2)\n",
    "if BMI < 16:\n",
    "    print('gay cap do 3')\n",
    "elif 16<= BMI <17:\n",
    "    print('gay cap do 2')\n",
    "elif 17<= BMI <18.5:\n",
    "    print('gay cap do 1')\n",
    "elif 18.5<= BMI <25:\n",
    "    print('binh thuong')\n",
    "elif 25<= BMI <30:\n",
    "    print('thua can')\n",
    "elif 30<= BMI <35:\n",
    "    print('beo phi cap do 1')\n",
    "elif 35<= BMI <40:\n",
    "    print('beo phi cap do 2')\n",
    "else:\n",
    "    print('beo phi cap do 3')    "
   ]
  },
  {
   "cell_type": "code",
   "execution_count": null,
   "id": "e018fc3d",
   "metadata": {},
   "outputs": [],
   "source": []
  }
 ],
 "metadata": {
  "kernelspec": {
   "display_name": "Python 3 (ipykernel)",
   "language": "python",
   "name": "python3"
  },
  "language_info": {
   "codemirror_mode": {
    "name": "ipython",
    "version": 3
   },
   "file_extension": ".py",
   "mimetype": "text/x-python",
   "name": "python",
   "nbconvert_exporter": "python",
   "pygments_lexer": "ipython3",
   "version": "3.9.12"
  }
 },
 "nbformat": 4,
 "nbformat_minor": 5
}
