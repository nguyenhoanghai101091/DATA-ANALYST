{
 "cells": [
  {
   "cell_type": "code",
   "execution_count": 1,
   "id": "debd2822",
   "metadata": {},
   "outputs": [
    {
     "ename": "NameError",
     "evalue": "name 'color' is not defined",
     "output_type": "error",
     "traceback": [
      "\u001b[0;31m---------------------------------------------------------------------------\u001b[0m",
      "\u001b[0;31mNameError\u001b[0m                                 Traceback (most recent call last)",
      "Input \u001b[0;32mIn [1]\u001b[0m, in \u001b[0;36m<cell line: 58>\u001b[0;34m()\u001b[0m\n\u001b[1;32m     57\u001b[0m run \u001b[38;5;241m=\u001b[39m \u001b[38;5;28;01mTrue\u001b[39;00m\n\u001b[1;32m     58\u001b[0m \u001b[38;5;28;01mwhile\u001b[39;00m run:\n\u001b[0;32m---> 59\u001b[0m     \u001b[43mrandom_walk\u001b[49m\u001b[43m(\u001b[49m\u001b[43mall_turtles\u001b[49m\u001b[43m)\u001b[49m\n\u001b[1;32m     60\u001b[0m screen\u001b[38;5;241m.\u001b[39mexitonclick()\n",
      "Input \u001b[0;32mIn [1]\u001b[0m, in \u001b[0;36mrandom_walk\u001b[0;34m(turtles)\u001b[0m\n\u001b[1;32m     54\u001b[0m pen\u001b[38;5;241m.\u001b[39mgoto(\u001b[38;5;241m-\u001b[39m\u001b[38;5;241m250\u001b[39m,\u001b[38;5;241m-\u001b[39m\u001b[38;5;241m200\u001b[39m)\n\u001b[1;32m     55\u001b[0m pen\u001b[38;5;241m.\u001b[39mpendown()\n\u001b[0;32m---> 56\u001b[0m pen\u001b[38;5;241m.\u001b[39mwrite(\u001b[38;5;124m'\u001b[39m\u001b[38;5;124mRùa thắng cuộc là rùa\u001b[39m\u001b[38;5;124m'\u001b[39m,{\u001b[43mcolor\u001b[49m[turtle]})\n",
      "\u001b[0;31mNameError\u001b[0m: name 'color' is not defined"
     ]
    }
   ],
   "source": [
    "#[Bài tập] Cuộc đua của những chú rùa phần 2\n",
    "import turtle as t\n",
    "import random\n",
    "# Tạo khung cảnh và vẽ các cột mốc bên trái đường đua\n",
    "screen = t.Screen()\n",
    "screen.setup(height=500, width=600)\n",
    "pen = t.Turtle(visible=False)\n",
    "pen.penup()\n",
    "pen.speed(0)\n",
    "pen.goto(-250, 200)\n",
    "for i in range(21):\n",
    "    pen.write(i)\n",
    "    pen.forward(25)\n",
    "\n",
    "# Vẽ các đường đứt đoạn trên đường đua và\n",
    "# đánh dấu các cột mốc bên phải đường đua\n",
    "x = -250\n",
    "pen.goto(-250, 200)\n",
    "pen.right(90)\n",
    "for i in range(21):\n",
    "    for j in range(10):\n",
    "        pen.pendown()\n",
    "        pen.forward(20)\n",
    "        pen.penup()\n",
    "        pen.forward(10)\n",
    "    pen.penup()\n",
    "    pen.forward(5)\n",
    "    pen.write(i)\n",
    "    pen.goto(x + (i + 1) * 25, 200)\n",
    "    all_turtles = []\n",
    "y_position = [160, 100, 40, -20]\n",
    "colors = ['red', 'green', 'blue', 'black']\n",
    "for turtle in range(0, 4):\n",
    "    turtles = t.Turtle(shape=\"turtle\")\n",
    "    turtles.penup()\n",
    "    # Di chuyển rùa về vị trí ban đầu,\n",
    "    # bên trái cùng của đường đua\n",
    "    turtles.goto(x=-250, y=y_position[turtle])\n",
    "    # Màu của rùa\n",
    "    turtles.color(colors[turtle])\n",
    "    for i in range(5):\n",
    "        turtles.left(72)\n",
    "    # Lưu vào list\n",
    "    all_turtles.append(turtles)\n",
    "def random_walk(turtles):\n",
    "    global run\n",
    "    for turtle in turtles:\n",
    "        turtle.forward(random.randint(1, 10))\n",
    "        # Kiểm tra điều kiện cán đích\n",
    "        # Khi 1 con cán đích thì dừng lại\n",
    "        if turtle.xcor() > 250:\n",
    "            run = False\n",
    "        pen.penup()\n",
    "        pen.goto(-250,-200)\n",
    "        pen.pendown()\n",
    "        pen.write('Rùa thắng cuộc là rùa',{color[turtle]})     \n",
    "run = True\n",
    "while run:\n",
    "    random_walk(all_turtles)\n",
    "screen.exitonclick()#[Thực hành] Cuộc đua của những chú rùa phần 1\n"
   ]
  },
  {
   "cell_type": "code",
   "execution_count": null,
   "id": "dd2f2fbc",
   "metadata": {},
   "outputs": [],
   "source": []
  }
 ],
 "metadata": {
  "kernelspec": {
   "display_name": "Python 3 (ipykernel)",
   "language": "python",
   "name": "python3"
  },
  "language_info": {
   "codemirror_mode": {
    "name": "ipython",
    "version": 3
   },
   "file_extension": ".py",
   "mimetype": "text/x-python",
   "name": "python",
   "nbconvert_exporter": "python",
   "pygments_lexer": "ipython3",
   "version": "3.9.12"
  }
 },
 "nbformat": 4,
 "nbformat_minor": 5
}
