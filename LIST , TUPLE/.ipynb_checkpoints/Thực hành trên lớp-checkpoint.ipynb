{
 "cells": [
  {
   "cell_type": "code",
   "execution_count": null,
   "id": "b56c1b48",
   "metadata": {},
   "outputs": [],
   "source": [
    "#TẠO 1 LIST MỚI\n",
    "list_moi = ['a','b','c','d','e',1,2,3,4,5]\n",
    "#list_moi.append('g')\n",
    "list_moi.insert(2,'g')\n",
    "print(list_moi)"
   ]
  },
  {
   "cell_type": "code",
   "execution_count": 1,
   "id": "d7a39fb2",
   "metadata": {},
   "outputs": [
    {
     "name": "stdout",
     "output_type": "stream",
     "text": [
      "nhap vao cac so nguyen1\n",
      "bam phím q de thoat ra\n",
      "nhap vao cac so nguyen2\n",
      "bam phím q de thoat ra\n",
      "nhap vao cac so nguyen3\n",
      "bam phím q de thoat ra\n",
      "nhap vao cac so nguyen4\n",
      "bam phím q de thoat ra\n",
      "nhap vao cac so nguyen5\n",
      "bam phím q de thoat ra\n",
      "nhap vao cac so nguyenq\n",
      "bam phím q de thoat ra\n",
      "['1', '2', '3', '4', '5', 'q']\n"
     ]
    }
   ],
   "source": [
    "#Bài tập 1\n",
    "#khai báo 1 list rỗng\n",
    "your_list = []\n",
    "while True:\n",
    "    so = input('nhap vao cac so nguyen')\n",
    "    your_list.append(so)\n",
    "    print('bam phím q de thoat ra')\n",
    "    if so == 'q':\n",
    "        break\n",
    "print(your_list) \n"
   ]
  },
  {
   "cell_type": "code",
   "execution_count": null,
   "id": "61f41e75",
   "metadata": {},
   "outputs": [],
   "source": []
  }
 ],
 "metadata": {
  "kernelspec": {
   "display_name": "Python 3 (ipykernel)",
   "language": "python",
   "name": "python3"
  },
  "language_info": {
   "codemirror_mode": {
    "name": "ipython",
    "version": 3
   },
   "file_extension": ".py",
   "mimetype": "text/x-python",
   "name": "python",
   "nbconvert_exporter": "python",
   "pygments_lexer": "ipython3",
   "version": "3.9.12"
  }
 },
 "nbformat": 4,
 "nbformat_minor": 5
}
