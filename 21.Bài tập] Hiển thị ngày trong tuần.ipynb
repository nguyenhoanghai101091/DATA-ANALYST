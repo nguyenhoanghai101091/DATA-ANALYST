{
 "cells": [
  {
   "cell_type": "code",
   "execution_count": 2,
   "id": "7fbd198f",
   "metadata": {},
   "outputs": [
    {
     "name": "stdout",
     "output_type": "stream",
     "text": [
      "nhap 1 so nguyen tu 1 den 7:2\n",
      " hom nay là Tuesday\n"
     ]
    }
   ],
   "source": [
    "#[Bài tập] Hiển thị ngày trong tuần\n",
    "n=int(input('nhap 1 so nguyen tu 1 den 7:'))\n",
    "if n==1:\n",
    "      print(\" hom nay là Monday\")\n",
    "elif n==2:\n",
    "      print(\" hom nay là Tuesday\")\n",
    "elif n==3:\n",
    "      print(\" hom nay là Wednesday\")\n",
    "elif n==4:\n",
    "      print(\" hom nay là Thursday\")\n",
    "elif n==5:\n",
    "      print(\" hom nay là Friday\")\n",
    "elif n==6:\n",
    "      print(\" hom nay là Saturday\")\n",
    "elif n==7:\n",
    "      print(\" hom nay là Sunday\")"
   ]
  },
  {
   "cell_type": "code",
   "execution_count": null,
   "id": "013978ff",
   "metadata": {},
   "outputs": [],
   "source": []
  }
 ],
 "metadata": {
  "kernelspec": {
   "display_name": "Python 3 (ipykernel)",
   "language": "python",
   "name": "python3"
  },
  "language_info": {
   "codemirror_mode": {
    "name": "ipython",
    "version": 3
   },
   "file_extension": ".py",
   "mimetype": "text/x-python",
   "name": "python",
   "nbconvert_exporter": "python",
   "pygments_lexer": "ipython3",
   "version": "3.9.12"
  }
 },
 "nbformat": 4,
 "nbformat_minor": 5
}
