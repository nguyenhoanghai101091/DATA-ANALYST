{
 "cells": [
  {
   "cell_type": "code",
   "execution_count": 1,
   "id": "69f16143",
   "metadata": {},
   "outputs": [],
   "source": [
    "#[Bài tập] Vẽ nhà sử dụng hàm\n",
    "import turtle\n",
    "t=turtle.Turtle()\n",
    "def hinh_chu_nhat(t,chieu_dai,chieu_rong,mau):\n",
    "    t.fillcolor(mau)\n",
    "    t.begin_fill()\n",
    "    t.forward(chieu_rong)\n",
    "    t.left(90)\n",
    "    t.forward(chieu_dai)\n",
    "    t.left(90)\n",
    "    t.forward(chieu_rong)\n",
    "    t.left(90)\n",
    "    t.forward(chieu_dai)\n",
    "    t.left(180)\n",
    "    t.end_fill()\n",
    "    t.penup()\n",
    "    t.forward(chieu_dai/4)\n",
    "    \n",
    "    t.fillcolor('white')\n",
    "    t.begin_fill()\n",
    "    t.forward(chieu_rong)\n",
    "    t.left(90)\n",
    "    t.forward(chieu_dai)\n",
    "    t.left(90)\n",
    "    t.forward(chieu_rong)\n",
    "    t.left(90)\n",
    "    t.forward(chieu_dai)\n",
    "    t.left(90)\n",
    "    t.end_fill()\n",
    "hinh_chu_nhat(t,200,100,'blue')\n",
    "def di_chuyen(t,x,y):\n",
    "    t.penup()\n",
    "    t.goto(0,0)\n",
    "    t.goto(x,y)\n",
    "    t.pendown()\n",
    "di_chuyen(t,50,100)\n",
    "    \n"
   ]
  },
  {
   "cell_type": "code",
   "execution_count": null,
   "id": "37ee0188",
   "metadata": {},
   "outputs": [],
   "source": []
  }
 ],
 "metadata": {
  "kernelspec": {
   "display_name": "Python 3 (ipykernel)",
   "language": "python",
   "name": "python3"
  },
  "language_info": {
   "codemirror_mode": {
    "name": "ipython",
    "version": 3
   },
   "file_extension": ".py",
   "mimetype": "text/x-python",
   "name": "python",
   "nbconvert_exporter": "python",
   "pygments_lexer": "ipython3",
   "version": "3.9.12"
  }
 },
 "nbformat": 4,
 "nbformat_minor": 5
}
