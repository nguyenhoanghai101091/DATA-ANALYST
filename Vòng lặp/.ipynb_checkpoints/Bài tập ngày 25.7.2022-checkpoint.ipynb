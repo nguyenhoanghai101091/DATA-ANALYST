{
 "cells": [
  {
   "cell_type": "code",
   "execution_count": null,
   "id": "66b8958a",
   "metadata": {},
   "outputs": [],
   "source": [
    "#in ra số từ 10 đến 1\n",
    "n=1\n",
    "a=10\n",
    "while n <= 10:\n",
    "    print(a)\n",
    "    n += 1\n",
    "    a -= 1"
   ]
  },
  {
   "cell_type": "code",
   "execution_count": null,
   "id": "b6604aad",
   "metadata": {
    "scrolled": true
   },
   "outputs": [],
   "source": [
    "#in các số chẵn từ 1 đến 10\n",
    "n=0\n",
    "while n<=10:\n",
    "    print(n)\n",
    "    n+=2"
   ]
  },
  {
   "cell_type": "code",
   "execution_count": null,
   "id": "348c790a",
   "metadata": {
    "scrolled": true
   },
   "outputs": [],
   "source": [
    "#in các số lẻ từ 1 đến 10\n",
    "n=1\n",
    "while n<=10:\n",
    "    print(n)\n",
    "    n+=2"
   ]
  },
  {
   "cell_type": "code",
   "execution_count": null,
   "id": "866dea5d",
   "metadata": {
    "scrolled": true
   },
   "outputs": [],
   "source": [
    "#Bài tập 3: nhập vào 1 số, in ra bảng cửu chương\n",
    "n=1\n",
    "a=int(input('nhap vao 1 so tu 1 den 9:'))\n",
    "while n<=9:\n",
    "    print(f\"{a}*{n}={a*n}\")\n",
    "    n+=1\n"
   ]
  },
  {
   "cell_type": "code",
   "execution_count": null,
   "id": "54c79f5c",
   "metadata": {
    "scrolled": true
   },
   "outputs": [],
   "source": [
    "# Bài 4. Sử dụng ký tự * để in ra tam giác vuông cân như hình\n",
    "n = 1\n",
    "sao=\"*\"\n",
    "while n<=4:\n",
    "    print(sao*n)\n",
    "    n += 1\n",
    "    "
   ]
  },
  {
   "cell_type": "code",
   "execution_count": null,
   "id": "aeb25b9d",
   "metadata": {},
   "outputs": [],
   "source": [
    "#5. Sử dụng ký tự * để in ra một tam giác cân như hình\n",
    "n=1\n",
    "m=3\n",
    "sao=\"*\"\n",
    "trong=\" \"\n",
    "while m>=0:\n",
    "    print(f\"{trong*m}{sao*n}\")\n",
    "    n += 2\n",
    "    m -= 1"
   ]
  },
  {
   "cell_type": "code",
   "execution_count": 8,
   "id": "e285f95a",
   "metadata": {},
   "outputs": [
    {
     "name": "stdout",
     "output_type": "stream",
     "text": [
      "    *\n",
      "   ***\n",
      "  *****\n",
      " *******\n",
      "*********\n",
      " *******\n",
      "  *****\n",
      "   ***\n",
      "    *\n"
     ]
    }
   ],
   "source": [
    "#Bài 6. In ra hình thoi sử dụng ký tự *\n",
    "#5. Sử dụng ký tự * để in ra một tam giác cân như hình\n",
    "n=1\n",
    "m=4\n",
    "sao=\"*\"\n",
    "trong=\" \"\n",
    "while m>=0:\n",
    "    print(f\"{trong*m}{sao*n}\")\n",
    "    n += 2\n",
    "    m -= 1\n",
    "    if m==0:\n",
    "        break\n",
    "while m<=4:\n",
    "    print(f\"{trong*m}{sao*n}\")\n",
    "    n -= 2\n",
    "    m += 1"
   ]
  }
 ],
 "metadata": {
  "kernelspec": {
   "display_name": "Python 3 (ipykernel)",
   "language": "python",
   "name": "python3"
  },
  "language_info": {
   "codemirror_mode": {
    "name": "ipython",
    "version": 3
   },
   "file_extension": ".py",
   "mimetype": "text/x-python",
   "name": "python",
   "nbconvert_exporter": "python",
   "pygments_lexer": "ipython3",
   "version": "3.9.12"
  }
 },
 "nbformat": 4,
 "nbformat_minor": 5
}
