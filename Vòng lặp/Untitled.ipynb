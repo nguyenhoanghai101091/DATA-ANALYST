{
 "cells": [
  {
   "cell_type": "code",
   "execution_count": 8,
   "id": "b1940b82",
   "metadata": {},
   "outputs": [
    {
     "name": "stdout",
     "output_type": "stream",
     "text": [
      "nhap vao so n3\n",
      "3.33333\n"
     ]
    }
   ],
   "source": [
    "#nhập 1 số n, tính tổng s=1+1/2+....+1/n, làm tròn 5 chữ số thập phân\n",
    "try:\n",
    "    n=int(input('nhap vao so n'))\n",
    "    for s in range(0,n+1):\n",
    "        s=s+1/n\n",
    "    print(f'{s:.5f}')\n",
    "except:\n",
    "    print('hay nhap vao so nguyen')"
   ]
  }
 ],
 "metadata": {
  "kernelspec": {
   "display_name": "Python 3 (ipykernel)",
   "language": "python",
   "name": "python3"
  },
  "language_info": {
   "codemirror_mode": {
    "name": "ipython",
    "version": 3
   },
   "file_extension": ".py",
   "mimetype": "text/x-python",
   "name": "python",
   "nbconvert_exporter": "python",
   "pygments_lexer": "ipython3",
   "version": "3.9.12"
  }
 },
 "nbformat": 4,
 "nbformat_minor": 5
}
