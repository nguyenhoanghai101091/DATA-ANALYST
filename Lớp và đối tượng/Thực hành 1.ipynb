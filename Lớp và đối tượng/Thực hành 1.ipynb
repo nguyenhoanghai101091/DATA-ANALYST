{
 "cells": [
  {
   "cell_type": "code",
   "execution_count": 1,
   "id": "0828cdef",
   "metadata": {},
   "outputs": [
    {
     "ename": "AttributeError",
     "evalue": "'Car' object has no attribute 'show'",
     "output_type": "error",
     "traceback": [
      "\u001b[0;31m---------------------------------------------------------------------------\u001b[0m",
      "\u001b[0;31mAttributeError\u001b[0m                            Traceback (most recent call last)",
      "Input \u001b[0;32mIn [1]\u001b[0m, in \u001b[0;36m<cell line: 17>\u001b[0;34m()\u001b[0m\n\u001b[1;32m     14\u001b[0m \u001b[38;5;66;03m# Tạo đối tượng bằng hàm khởi tạo có\u001b[39;00m\n\u001b[1;32m     15\u001b[0m \u001b[38;5;66;03m# tham số\u001b[39;00m\n\u001b[1;32m     16\u001b[0m sonata \u001b[38;5;241m=\u001b[39m Car(\u001b[38;5;124m\"\u001b[39m\u001b[38;5;124mV8.1\u001b[39m\u001b[38;5;124m\"\u001b[39m, \u001b[38;5;124m\"\u001b[39m\u001b[38;5;124myellow\u001b[39m\u001b[38;5;124m\"\u001b[39m, \u001b[38;5;241m300\u001b[39m)\n\u001b[0;32m---> 17\u001b[0m \u001b[43msonata\u001b[49m\u001b[38;5;241;43m.\u001b[39;49m\u001b[43mshow\u001b[49m()\n",
      "\u001b[0;31mAttributeError\u001b[0m: 'Car' object has no attribute 'show'"
     ]
    }
   ],
   "source": [
    "#Thực hành 1\n",
    "class Car:\n",
    "    # Liệt kê các thuộc tính của lớp ô tô\n",
    "    engine = \"V8\"\n",
    "    color = \"black\"\n",
    "    max_speed = 100\n",
    "\n",
    "    # Hàm khởi tạo mặc định\n",
    "    def __init__(self, engine, color, max_speed):\n",
    "        self.engine = engine\n",
    "        self.color = color\n",
    "        self.max_speed = max_speed\n",
    " \n",
    "# Tạo đối tượng bằng hàm khởi tạo có\n",
    "# tham số\n",
    "sonata = Car(\"V8.1\", \"yellow\", 300)\n",
    "sonata.show()"
   ]
  },
  {
   "cell_type": "code",
   "execution_count": null,
   "id": "4cac8770",
   "metadata": {},
   "outputs": [],
   "source": []
  }
 ],
 "metadata": {
  "kernelspec": {
   "display_name": "Python 3 (ipykernel)",
   "language": "python",
   "name": "python3"
  },
  "language_info": {
   "codemirror_mode": {
    "name": "ipython",
    "version": 3
   },
   "file_extension": ".py",
   "mimetype": "text/x-python",
   "name": "python",
   "nbconvert_exporter": "python",
   "pygments_lexer": "ipython3",
   "version": "3.9.12"
  }
 },
 "nbformat": 4,
 "nbformat_minor": 5
}
