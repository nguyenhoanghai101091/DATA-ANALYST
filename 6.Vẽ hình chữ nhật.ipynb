{
 "cells": [
  {
   "cell_type": "code",
   "execution_count": null,
   "id": "1e0ee6db",
   "metadata": {},
   "outputs": [],
   "source": [
    "import turtle\n",
    "a=turtle.Turtle()\n",
    "m=100\n",
    "n=50\n",
    "a.forward(m)\n",
    "a.right(90)\n",
    "a.forward(n)\n",
    "a.right(90)\n",
    "a.forward(m)\n",
    "a.right(90)\n",
    "a.forward(n)\n",
    "a.right(90)\n",
    "turtle.done()"
   ]
  },
  {
   "cell_type": "code",
   "execution_count": null,
   "id": "1e30dce6",
   "metadata": {},
   "outputs": [],
   "source": []
  }
 ],
 "metadata": {
  "kernelspec": {
   "display_name": "Python 3 (ipykernel)",
   "language": "python",
   "name": "python3"
  },
  "language_info": {
   "codemirror_mode": {
    "name": "ipython",
    "version": 3
   },
   "file_extension": ".py",
   "mimetype": "text/x-python",
   "name": "python",
   "nbconvert_exporter": "python",
   "pygments_lexer": "ipython3",
   "version": "3.9.12"
  }
 },
 "nbformat": 4,
 "nbformat_minor": 5
}
