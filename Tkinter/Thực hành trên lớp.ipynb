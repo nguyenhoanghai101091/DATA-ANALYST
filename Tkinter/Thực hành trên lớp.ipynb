{
 "cells": [
  {
   "cell_type": "code",
   "execution_count": null,
   "id": "37902682",
   "metadata": {},
   "outputs": [],
   "source": [
    "#Khai báo module tkinter\n",
    "import tkinter as tk\n",
    "from tkinter import ttk\n",
    "    \n",
    "# Tạo cửa sổ chính cho giao diện\n",
    "root = Tk()\n",
    "  \n",
    "# Đặt tiêu đề cho cửa sổ chính \n",
    "root.title(\"First_Program\")\n",
    "  \n",
    "# Tạo text “Hello World !” , đây là kết quả sẽ in ra\n",
    "label = ttk.Label(root, text =\"Hello World !\").pack()\n",
    "  \n",
    "# Sử dụng phương thức để cửa sổ chính giao diện hiển thị ra màn hình\n",
    "root.mainloop()"
   ]
  },
  {
   "cell_type": "code",
   "execution_count": null,
   "id": "e6deae8c",
   "metadata": {},
   "outputs": [],
   "source": []
  }
 ],
 "metadata": {
  "kernelspec": {
   "display_name": "Python 3 (ipykernel)",
   "language": "python",
   "name": "python3"
  },
  "language_info": {
   "codemirror_mode": {
    "name": "ipython",
    "version": 3
   },
   "file_extension": ".py",
   "mimetype": "text/x-python",
   "name": "python",
   "nbconvert_exporter": "python",
   "pygments_lexer": "ipython3",
   "version": "3.9.12"
  }
 },
 "nbformat": 4,
 "nbformat_minor": 5
}
