{
 "cells": [
  {
   "cell_type": "code",
   "execution_count": null,
   "id": "cf0dcf0f",
   "metadata": {},
   "outputs": [],
   "source": [
    "#[Bài tập] Luyện tập với toán tử ba ngôi\n",
    "number_check=int(input('nhap vao 1 so nguyen bat ki:'))\n",
    "msg='so chan' if number_check%2==0"
   ]
  }
 ],
 "metadata": {
  "kernelspec": {
   "display_name": "Python 3 (ipykernel)",
   "language": "python",
   "name": "python3"
  },
  "language_info": {
   "codemirror_mode": {
    "name": "ipython",
    "version": 3
   },
   "file_extension": ".py",
   "mimetype": "text/x-python",
   "name": "python",
   "nbconvert_exporter": "python",
   "pygments_lexer": "ipython3",
   "version": "3.9.12"
  }
 },
 "nbformat": 4,
 "nbformat_minor": 5
}
