{
 "cells": [
  {
   "cell_type": "code",
   "execution_count": 1,
   "id": "cf0dcf0f",
   "metadata": {},
   "outputs": [
    {
     "ename": "SyntaxError",
     "evalue": "cannot assign to conditional expression (1652328480.py, line 3)",
     "output_type": "error",
     "traceback": [
      "\u001b[0;36m  Input \u001b[0;32mIn [1]\u001b[0;36m\u001b[0m\n\u001b[0;31m    msg='so chan' if number_check%2==0 else msg='so le'\u001b[0m\n\u001b[0m        ^\u001b[0m\n\u001b[0;31mSyntaxError\u001b[0m\u001b[0;31m:\u001b[0m cannot assign to conditional expression\n"
     ]
    }
   ],
   "source": [
    "#[Bài tập] Luyện tập với toán tử ba ngôi\n",
    "number_check=int(input('nhap vao 1 so nguyen bat ki:'))\n",
    "print(f'{number_check} la so chan') if number_check%2==0 else m"
   ]
  },
  {
   "cell_type": "code",
   "execution_count": null,
   "id": "be1d69e9",
   "metadata": {},
   "outputs": [],
   "source": []
  }
 ],
 "metadata": {
  "kernelspec": {
   "display_name": "Python 3 (ipykernel)",
   "language": "python",
   "name": "python3"
  },
  "language_info": {
   "codemirror_mode": {
    "name": "ipython",
    "version": 3
   },
   "file_extension": ".py",
   "mimetype": "text/x-python",
   "name": "python",
   "nbconvert_exporter": "python",
   "pygments_lexer": "ipython3",
   "version": "3.9.12"
  }
 },
 "nbformat": 4,
 "nbformat_minor": 5
}
