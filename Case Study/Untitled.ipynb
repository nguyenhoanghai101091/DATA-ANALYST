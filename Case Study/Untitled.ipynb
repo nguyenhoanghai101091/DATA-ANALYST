{
 "cells": [
  {
   "cell_type": "code",
   "execution_count": null,
   "id": "c6286c4d",
   "metadata": {},
   "outputs": [],
   "source": [
    "import tkinter as tk\n",
    "from tkinter import ttk\n",
    "my_w = tk.Tk()\n",
    "my_w.geometry(\"300x150\")  # Size of the window \n",
    "my_w.title(\"www.plus2net.com\")  # Adding a title\n",
    "def my_upd1():\n",
    "    cb1.set('Apr') # update selection to Apr\n",
    "    l1.config(text=cb1.get()+':'+ str(cb1.current())) # value & index\n",
    "\t\n",
    "months=['Jan','Feb','Mar','Apr','May','Jun']\n",
    "cb1 = ttk.Combobox(my_w, values=months,width=7)\n",
    "cb1.grid(row=1,column=1,padx=10,pady=20)\n",
    "\n",
    "b1=tk.Button(my_w,text=\"set('Apr')\", command=lambda: my_upd1())\n",
    "b1.grid(row=1,column=2)\n",
    "l1=tk.Label(my_w,text='Month')\n",
    "l1.grid(row=1,column=3)\n",
    "print(cb1.get())\n",
    "my_w.mainloop()  # Keep the window open"
   ]
  },
  {
   "cell_type": "code",
   "execution_count": null,
   "id": "a664225a",
   "metadata": {},
   "outputs": [],
   "source": []
  }
 ],
 "metadata": {
  "kernelspec": {
   "display_name": "Python 3 (ipykernel)",
   "language": "python",
   "name": "python3"
  },
  "language_info": {
   "codemirror_mode": {
    "name": "ipython",
    "version": 3
   },
   "file_extension": ".py",
   "mimetype": "text/x-python",
   "name": "python",
   "nbconvert_exporter": "python",
   "pygments_lexer": "ipython3",
   "version": "3.9.12"
  }
 },
 "nbformat": 4,
 "nbformat_minor": 5
}
