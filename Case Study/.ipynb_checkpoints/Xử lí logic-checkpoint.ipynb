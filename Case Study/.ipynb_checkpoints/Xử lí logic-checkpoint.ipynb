{
 "cells": [
  {
   "cell_type": "code",
   "execution_count": null,
   "id": "b737d835",
   "metadata": {},
   "outputs": [],
   "source": [
    "#Chuyển đổi Font\n",
    "import tkinter as tk\n",
    "from tkinter import ttk\n",
    "from openpyxl import load_workbook\n",
    "from openpyxl.styles import Font, Color\n",
    "\n",
    "#hàm kiểm tra kí tự japanese\n",
    "def is_japanese(character):\n",
    "    return any([start <= ord(character) <= end for start, end in \n",
    "                [(4352, 4607), (11904, 42191), (43072, 43135), (44032, 55215), \n",
    "                 (63744, 64255), (65072, 65103), (65381, 65500), \n",
    "                 (131072, 196607)]\n",
    "                ])\n",
    "\n",
    "wb = load_workbook('test.xlsx')\n",
    "ws=wb.active\n",
    "max_column=ws.max_column\n",
    "max_row=ws.max_row\n",
    "for col in range(1,max_column+1):\n",
    "    for ro in range(1,max_row+1):\n",
    "        cell=ws.cell( column=col, row=ro)\n",
    "        cell_value = cell.value\n",
    "        font = Font(name=\"Arial\",\n",
    "                    size=20,\n",
    "                    bold=True)\n",
    "        if cell_value is not None and isinstance(cell_value,str):\n",
    "            if is_japanese(cell_value[0]):\n",
    "                cell.font = font\n",
    "                print(cell)\n",
    "                print(cell_value)\n",
    "wb.save('test.xlsx')"
   ]
  },
  {
   "cell_type": "code",
   "execution_count": null,
   "id": "555ba5a1",
   "metadata": {},
   "outputs": [],
   "source": []
  },
  {
   "cell_type": "code",
   "execution_count": null,
   "id": "badb70eb",
   "metadata": {},
   "outputs": [],
   "source": []
  }
 ],
 "metadata": {
  "kernelspec": {
   "display_name": "Python 3 (ipykernel)",
   "language": "python",
   "name": "python3"
  },
  "language_info": {
   "codemirror_mode": {
    "name": "ipython",
    "version": 3
   },
   "file_extension": ".py",
   "mimetype": "text/x-python",
   "name": "python",
   "nbconvert_exporter": "python",
   "pygments_lexer": "ipython3",
   "version": "3.9.12"
  }
 },
 "nbformat": 4,
 "nbformat_minor": 5
}
