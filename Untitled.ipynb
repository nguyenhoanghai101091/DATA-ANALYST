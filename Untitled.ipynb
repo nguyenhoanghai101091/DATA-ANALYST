{
 "cells": [
  {
   "cell_type": "code",
   "execution_count": null,
   "id": "910323db",
   "metadata": {},
   "outputs": [],
   "source": [
    "#[Bài tập] Tính chỉ số cân nặng của cơ thể (Python)\n",
    "can_nang=float(input('nhap so can nang:'))\n",
    "chieu_cao=float(input('nhap chieu cao'))\n",
    "BMI==can_nang/(chieu_cao**2)\n",
    "if BMI<16:\n",
    "    print('gap cap do 3')\n",
    "elif 16<= BMI < 17:\n",
    "    print('gap do 2')\n",
    "elif 16<= BMI < 17:\n",
    "    print('gap do 2')"
   ]
  }
 ],
 "metadata": {
  "kernelspec": {
   "display_name": "Python 3 (ipykernel)",
   "language": "python",
   "name": "python3"
  },
  "language_info": {
   "codemirror_mode": {
    "name": "ipython",
    "version": 3
   },
   "file_extension": ".py",
   "mimetype": "text/x-python",
   "name": "python",
   "nbconvert_exporter": "python",
   "pygments_lexer": "ipython3",
   "version": "3.9.12"
  }
 },
 "nbformat": 4,
 "nbformat_minor": 5
}
