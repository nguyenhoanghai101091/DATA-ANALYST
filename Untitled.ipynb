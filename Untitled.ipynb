{
 "cells": [
  {
   "cell_type": "code",
   "execution_count": 1,
   "id": "8fcfbd1c",
   "metadata": {},
   "outputs": [
    {
     "name": "stdout",
     "output_type": "stream",
     "text": [
      "Nhập vào 1 số\n",
      "5\n",
      "kết quả của biểu thức 5/55*555\n"
     ]
    }
   ],
   "source": [
    "#nhập vào 1 số n\n",
    "n=input('Nhập vào 1 số\\n')\n",
    "x=str(n+\"/\"+(n*2)+\"*\"+(n*3))\n",
    "#ép kiểu n\n",
    "a=int(n)\n",
    "y=float()\n",
    "print(\"kết quả của biểu thức\",x,)"
   ]
  },
  {
   "cell_type": "code",
   "execution_count": null,
   "id": "7d969b9d",
   "metadata": {},
   "outputs": [],
   "source": []
  }
 ],
 "metadata": {
  "kernelspec": {
   "display_name": "Python 3 (ipykernel)",
   "language": "python",
   "name": "python3"
  },
  "language_info": {
   "codemirror_mode": {
    "name": "ipython",
    "version": 3
   },
   "file_extension": ".py",
   "mimetype": "text/x-python",
   "name": "python",
   "nbconvert_exporter": "python",
   "pygments_lexer": "ipython3",
   "version": "3.9.12"
  }
 },
 "nbformat": 4,
 "nbformat_minor": 5
}
