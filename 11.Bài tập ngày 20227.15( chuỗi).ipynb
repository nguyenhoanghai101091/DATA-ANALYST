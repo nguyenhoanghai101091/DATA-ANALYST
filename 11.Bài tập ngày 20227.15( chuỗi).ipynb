{
 "cells": [
  {
   "cell_type": "code",
   "execution_count": 1,
   "id": "e10405e9",
   "metadata": {},
   "outputs": [
    {
     "name": "stdout",
     "output_type": "stream",
     "text": [
      "Nhập tên bạn Ak\n",
      "Nhập tên bạn Bk\n",
      "Nhập tên bạn Ck\n",
      "tên bạn A là: k\n",
      "tên bạn B là: k\n",
      "tên bạn C là: k\n",
      "Nhập tuổi bạn Ah\n"
     ]
    },
    {
     "ename": "ValueError",
     "evalue": "invalid literal for int() with base 10: 'h'",
     "output_type": "error",
     "traceback": [
      "\u001b[0;31m---------------------------------------------------------------------------\u001b[0m",
      "\u001b[0;31mValueError\u001b[0m                                Traceback (most recent call last)",
      "Input \u001b[0;32mIn [1]\u001b[0m, in \u001b[0;36m<cell line: 8>\u001b[0;34m()\u001b[0m\n\u001b[1;32m      6\u001b[0m \u001b[38;5;28mprint\u001b[39m(\u001b[38;5;124m\"\u001b[39m\u001b[38;5;124mtên bạn B là:\u001b[39m\u001b[38;5;124m\"\u001b[39m,tenB)\n\u001b[1;32m      7\u001b[0m \u001b[38;5;28mprint\u001b[39m(\u001b[38;5;124m\"\u001b[39m\u001b[38;5;124mtên bạn C là:\u001b[39m\u001b[38;5;124m\"\u001b[39m,tenA)\n\u001b[0;32m----> 8\u001b[0m tuoiA\u001b[38;5;241m=\u001b[39m\u001b[38;5;28;43mint\u001b[39;49m\u001b[43m(\u001b[49m\u001b[38;5;28;43minput\u001b[39;49m\u001b[43m(\u001b[49m\u001b[38;5;124;43m'\u001b[39;49m\u001b[38;5;124;43mNhập tuổi bạn A\u001b[39;49m\u001b[38;5;124;43m'\u001b[39;49m\u001b[43m)\u001b[49m\u001b[43m)\u001b[49m\n",
      "\u001b[0;31mValueError\u001b[0m: invalid literal for int() with base 10: 'h'"
     ]
    }
   ],
   "source": [
    "#bài tập 15.7.2022\n",
    "tenA=input('Nhập tên bạn A')\n",
    "tenB=input('Nhập tên bạn B')\n",
    "tenC=input('Nhập tên bạn C')\n",
    "print(\"tên bạn A là:\",tenA)\n",
    "print(\"tên bạn B là:\",tenB)\n",
    "print(\"tên bạn C là:\",tenA)\n",
    "tuoiA=int(input('Nhập tuổi bạn A'))\n",
    "tuoiB=int(input('Nhập tuổi bạn B'))\n",
    "tuoiC=int(input('Nhập tuổi bạn C'))\n",
    "tuoitb=(tuoiA+tuoiB+tuoiC)/3\n",
    "print()"
   ]
  },
  {
   "cell_type": "code",
   "execution_count": null,
   "id": "adeed43b",
   "metadata": {},
   "outputs": [],
   "source": []
  }
 ],
 "metadata": {
  "kernelspec": {
   "display_name": "Python 3 (ipykernel)",
   "language": "python",
   "name": "python3"
  },
  "language_info": {
   "codemirror_mode": {
    "name": "ipython",
    "version": 3
   },
   "file_extension": ".py",
   "mimetype": "text/x-python",
   "name": "python",
   "nbconvert_exporter": "python",
   "pygments_lexer": "ipython3",
   "version": "3.9.12"
  }
 },
 "nbformat": 4,
 "nbformat_minor": 5
}
