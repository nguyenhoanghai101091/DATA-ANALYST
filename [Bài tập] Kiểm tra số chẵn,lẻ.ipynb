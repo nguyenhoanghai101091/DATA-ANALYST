{
 "cells": [
  {
   "cell_type": "code",
   "execution_count": 7,
   "id": "46bf5d54",
   "metadata": {},
   "outputs": [
    {
     "name": "stdout",
     "output_type": "stream",
     "text": [
      "nhap vao 1 so nguyen bat ki:3.2\n",
      "3.2 khong phai la so tu nhien\n"
     ]
    }
   ],
   "source": [
    "#[Bài tập] Kiểm tra số chẵn/lẻ\n",
    "number_check=float(input('nhap vao 1 so nguyen bat ki:'))\n",
    "if number_check%2==0:\n",
    "    print(f'{number_check} la so chan')\n",
    "elif number_check%2==1:\n",
    "    print(f'{number_check} la so le')\n",
    "else:\n",
    "    print(f'{number_check} khong phai la so tu nhien')"
   ]
  },
  {
   "cell_type": "code",
   "execution_count": null,
   "id": "fc941ca3",
   "metadata": {},
   "outputs": [],
   "source": []
  }
 ],
 "metadata": {
  "kernelspec": {
   "display_name": "Python 3 (ipykernel)",
   "language": "python",
   "name": "python3"
  },
  "language_info": {
   "codemirror_mode": {
    "name": "ipython",
    "version": 3
   },
   "file_extension": ".py",
   "mimetype": "text/x-python",
   "name": "python",
   "nbconvert_exporter": "python",
   "pygments_lexer": "ipython3",
   "version": "3.9.12"
  }
 },
 "nbformat": 4,
 "nbformat_minor": 5
}
