{
 "cells": [
  {
   "cell_type": "code",
   "execution_count": 1,
   "id": "2f62af0e",
   "metadata": {},
   "outputs": [
    {
     "name": "stdout",
     "output_type": "stream",
     "text": [
      "3 x 1 = 3\n",
      "3 x 2 = 6\n",
      "3 x 3 = 9\n",
      "3 x 4 = 12\n",
      "3 x 5 = 15\n",
      "3 x 6 = 18\n",
      "3 x 7 = 21\n",
      "3 x 8 = 24\n",
      "3 x 9 = 27\n"
     ]
    }
   ],
   "source": [
    "#Chương trình in bảng cưủ chương\n",
    "def in_bang_cuu_chuong(so_bang_cuu_chuong):\n",
    "    for x in range(1,10):\n",
    "        print(so_bang_cuu_chuong,'x',x,'=',so_bang_cuu_chuong*x)\n",
    "in_bang_cuu_chuong(3)\n",
    "        \n",
    "    \n",
    "    \n",
    "    "
   ]
  },
  {
   "cell_type": "code",
   "execution_count": null,
   "id": "38317468",
   "metadata": {},
   "outputs": [],
   "source": [
    "#Vẽ hình vuông\n",
    "import turtle\n",
    "def ve_hinh_vuong(chieu_dai_canh):\n",
    "    t=turtle.Turtle()\n",
    "    for i in range(1,5):\n",
    "        t.forward(chieu_dai_canh)\n",
    "        t.left(90)\n",
    "    turtle.done()\n",
    "ve_hinh_vuong(200)"
   ]
  },
  {
   "cell_type": "code",
   "execution_count": null,
   "id": "6026dd4c",
   "metadata": {},
   "outputs": [],
   "source": []
  }
 ],
 "metadata": {
  "kernelspec": {
   "display_name": "Python 3 (ipykernel)",
   "language": "python",
   "name": "python3"
  },
  "language_info": {
   "codemirror_mode": {
    "name": "ipython",
    "version": 3
   },
   "file_extension": ".py",
   "mimetype": "text/x-python",
   "name": "python",
   "nbconvert_exporter": "python",
   "pygments_lexer": "ipython3",
   "version": "3.9.12"
  }
 },
 "nbformat": 4,
 "nbformat_minor": 5
}
