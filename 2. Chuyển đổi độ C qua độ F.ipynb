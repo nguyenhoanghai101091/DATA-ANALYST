{
 "cells": [
  {
   "cell_type": "code",
   "execution_count": 5,
   "id": "79fd9a8d",
   "metadata": {},
   "outputs": [
    {
     "name": "stdout",
     "output_type": "stream",
     "text": [
      "Nhập độ C\n",
      "\n",
      "1\n",
      "33.8\n"
     ]
    }
   ],
   "source": [
    "print(\"Nhập độ C\\n\")\n",
    "floatC=float(input())\n",
    "floatF=float(9*C/5+32)\n",
    "print(floatF)\n"
   ]
  },
  {
   "cell_type": "code",
   "execution_count": null,
   "id": "47d6d5d2",
   "metadata": {},
   "outputs": [],
   "source": []
  }
 ],
 "metadata": {
  "kernelspec": {
   "display_name": "Python 3 (ipykernel)",
   "language": "python",
   "name": "python3"
  },
  "language_info": {
   "codemirror_mode": {
    "name": "ipython",
    "version": 3
   },
   "file_extension": ".py",
   "mimetype": "text/x-python",
   "name": "python",
   "nbconvert_exporter": "python",
   "pygments_lexer": "ipython3",
   "version": "3.9.12"
  }
 },
 "nbformat": 4,
 "nbformat_minor": 5
}
